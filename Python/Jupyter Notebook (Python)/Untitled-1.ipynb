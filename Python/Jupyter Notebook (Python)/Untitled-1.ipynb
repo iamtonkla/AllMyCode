{
 "cells": [
  {
   "cell_type": "code",
   "execution_count": 1,
   "metadata": {},
   "outputs": [
    {
     "name": "stdout",
     "output_type": "stream",
     "text": [
      "Welcome!\n"
     ]
    }
   ],
   "source": [
    "time = '0'\n",
    "password = 'solo'\n",
    "max_time = '3'\n",
    "\n",
    "while True:\n",
    "\n",
    "    PIN = input('Plese enter code')\n",
    "\n",
    "    if PIN == password:\n",
    "        print('Welcome!')\n",
    "        break \n",
    "        \n",
    "\n",
    "    else:\n",
    "        print('Try again')\n",
    "        time = str(int(time) + 1)\n",
    "        \n",
    "    if time == max_time:\n",
    "            print('Access Denied')\n",
    "            break"
   ]
  },
  {
   "cell_type": "code",
   "execution_count": 2,
   "metadata": {},
   "outputs": [
    {
     "name": "stdout",
     "output_type": "stream",
     "text": [
      "plese enter hiyaaa 0 and 3\n"
     ]
    }
   ],
   "source": [
    "password = 'hiyaaa'\n",
    "time = '0'\n",
    "max_time = '3'\n",
    "print(f'plese enter {password} {time} and {max_time}')"
   ]
  }
 ],
 "metadata": {
  "kernelspec": {
   "display_name": "Python 3",
   "language": "python",
   "name": "python3"
  },
  "language_info": {
   "codemirror_mode": {
    "name": "ipython",
    "version": 3
   },
   "file_extension": ".py",
   "mimetype": "text/x-python",
   "name": "python",
   "nbconvert_exporter": "python",
   "pygments_lexer": "ipython3",
   "version": "3.12.0"
  }
 },
 "nbformat": 4,
 "nbformat_minor": 2
}
